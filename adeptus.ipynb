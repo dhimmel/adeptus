{
 "cells": [
  {
   "cell_type": "markdown",
   "metadata": {},
   "source": [
    "# ADEPTUS -- differential gene expression signatures of disease\n",
    "\n",
    "Processing the differential expression gene sets from \"Annotated Disease Expression Profiles Transformed into a Unified Suite\" ([publication](https://dx.doi.org/10.1093/nar/gkv810), [website](http://acgt.cs.tau.ac.il/adeptus/))."
   ]
  },
  {
   "cell_type": "code",
   "execution_count": 1,
   "metadata": {
    "collapsed": false
   },
   "outputs": [],
   "source": [
    "urls = [\n",
    "    'http://acgt.cs.tau.ac.il/adeptus/data/supp_table_1.txt',\n",
    "    'http://acgt.cs.tau.ac.il/adeptus/data/gene2name.txt',\n",
    "]\n",
    "for url in urls:\n",
    "    ! wget --no-verbose --timestamping --directory-prefix download {url}"
   ]
  },
  {
   "cell_type": "code",
   "execution_count": 2,
   "metadata": {
    "collapsed": true
   },
   "outputs": [],
   "source": [
    "import re\n",
    "\n",
    "import requests\n",
    "import pandas"
   ]
  },
  {
   "cell_type": "markdown",
   "metadata": {},
   "source": [
    "## Mappings"
   ]
  },
  {
   "cell_type": "code",
   "execution_count": 3,
   "metadata": {
    "collapsed": false
   },
   "outputs": [],
   "source": [
    "# Symbol to entrez gene mapping\n",
    "gene_map = pandas.read_table('download/gene2name.txt', names=['entrez_gene_id', 'Gene'])"
   ]
  },
  {
   "cell_type": "code",
   "execution_count": 4,
   "metadata": {
    "collapsed": false
   },
   "outputs": [],
   "source": [
    "# Disease ontology mapping\n",
    "url = 'https://github.com/dhimmel/disease-ontology/blob/72614ade9f1cc5a5317b8f6836e1e464b31d5587/data/term-names.tsv?raw=true'\n",
    "do_map_df = pandas.read_table(url)\n",
    "do_map_df = do_map_df.rename(columns={'doid': 'doid_id', 'name': 'Disease'})"
   ]
  },
  {
   "cell_type": "code",
   "execution_count": 5,
   "metadata": {
    "collapsed": false
   },
   "outputs": [
    {
     "data": {
      "text/html": [
       "<div>\n",
       "<table border=\"1\" class=\"dataframe\">\n",
       "  <thead>\n",
       "    <tr style=\"text-align: right;\">\n",
       "      <th></th>\n",
       "      <th>slim_id</th>\n",
       "      <th>slim_name</th>\n",
       "      <th>doid_id</th>\n",
       "      <th>subsumed_name</th>\n",
       "      <th>min_distance</th>\n",
       "    </tr>\n",
       "  </thead>\n",
       "  <tbody>\n",
       "    <tr>\n",
       "      <th>0</th>\n",
       "      <td>DOID:0050156</td>\n",
       "      <td>idiopathic pulmonary fibrosis</td>\n",
       "      <td>DOID:0050156</td>\n",
       "      <td>idiopathic pulmonary fibrosis</td>\n",
       "      <td>0</td>\n",
       "    </tr>\n",
       "    <tr>\n",
       "      <th>1</th>\n",
       "      <td>DOID:0050425</td>\n",
       "      <td>restless legs syndrome</td>\n",
       "      <td>DOID:0050425</td>\n",
       "      <td>restless legs syndrome</td>\n",
       "      <td>0</td>\n",
       "    </tr>\n",
       "  </tbody>\n",
       "</table>\n",
       "</div>"
      ],
      "text/plain": [
       "        slim_id                      slim_name       doid_id  \\\n",
       "0  DOID:0050156  idiopathic pulmonary fibrosis  DOID:0050156   \n",
       "1  DOID:0050425         restless legs syndrome  DOID:0050425   \n",
       "\n",
       "                   subsumed_name  min_distance  \n",
       "0  idiopathic pulmonary fibrosis             0  \n",
       "1         restless legs syndrome             0  "
      ]
     },
     "execution_count": 5,
     "metadata": {},
     "output_type": "execute_result"
    }
   ],
   "source": [
    "# Disease ontology slim mappings\n",
    "url = 'https://github.com/dhimmel/disease-ontology/blob/72614ade9f1cc5a5317b8f6836e1e464b31d5587/data/slim-terms-prop.tsv?raw=true'\n",
    "doslim_map_df = pandas.read_table(url)\n",
    "doslim_map_df = doslim_map_df.rename(columns={'subsumed_id': 'doid_id'})\n",
    "doslim_map_df.head(2)"
   ]
  },
  {
   "cell_type": "markdown",
   "metadata": {},
   "source": [
    "## Read gene sets"
   ]
  },
  {
   "cell_type": "code",
   "execution_count": 6,
   "metadata": {
    "collapsed": false
   },
   "outputs": [
    {
     "data": {
      "text/html": [
       "<div>\n",
       "<table border=\"1\" class=\"dataframe\">\n",
       "  <thead>\n",
       "    <tr style=\"text-align: right;\">\n",
       "      <th></th>\n",
       "      <th>Disease</th>\n",
       "      <th>Gene</th>\n",
       "      <th>Differential Expression</th>\n",
       "      <th>PB-ROC</th>\n",
       "      <th>PN-ROC</th>\n",
       "      <th>direction</th>\n",
       "    </tr>\n",
       "  </thead>\n",
       "  <tbody>\n",
       "    <tr>\n",
       "      <th>0</th>\n",
       "      <td>cancer</td>\n",
       "      <td>RFC2</td>\n",
       "      <td>vs bgc: up, vs negatives: up</td>\n",
       "      <td>0.70</td>\n",
       "      <td>0.71</td>\n",
       "      <td>up</td>\n",
       "    </tr>\n",
       "    <tr>\n",
       "      <th>1</th>\n",
       "      <td>cancer</td>\n",
       "      <td>CBX3</td>\n",
       "      <td>vs bgc: up, vs negatives: up</td>\n",
       "      <td>0.68</td>\n",
       "      <td>0.72</td>\n",
       "      <td>up</td>\n",
       "    </tr>\n",
       "    <tr>\n",
       "      <th>2</th>\n",
       "      <td>cancer</td>\n",
       "      <td>ERH</td>\n",
       "      <td>vs bgc: up, vs negatives: up</td>\n",
       "      <td>0.65</td>\n",
       "      <td>0.66</td>\n",
       "      <td>up</td>\n",
       "    </tr>\n",
       "    <tr>\n",
       "      <th>3</th>\n",
       "      <td>cancer</td>\n",
       "      <td>ZNF146</td>\n",
       "      <td>vs bgc: up, vs negatives: up</td>\n",
       "      <td>0.66</td>\n",
       "      <td>0.68</td>\n",
       "      <td>up</td>\n",
       "    </tr>\n",
       "    <tr>\n",
       "      <th>4</th>\n",
       "      <td>cancer</td>\n",
       "      <td>ILF2</td>\n",
       "      <td>vs bgc: up, vs negatives: up</td>\n",
       "      <td>0.73</td>\n",
       "      <td>0.71</td>\n",
       "      <td>up</td>\n",
       "    </tr>\n",
       "  </tbody>\n",
       "</table>\n",
       "</div>"
      ],
      "text/plain": [
       "  Disease    Gene       Differential Expression  PB-ROC  PN-ROC direction\n",
       "0  cancer    RFC2  vs bgc: up, vs negatives: up    0.70    0.71        up\n",
       "1  cancer    CBX3  vs bgc: up, vs negatives: up    0.68    0.72        up\n",
       "2  cancer     ERH  vs bgc: up, vs negatives: up    0.65    0.66        up\n",
       "3  cancer  ZNF146  vs bgc: up, vs negatives: up    0.66    0.68        up\n",
       "4  cancer    ILF2  vs bgc: up, vs negatives: up    0.73    0.71        up"
      ]
     },
     "execution_count": 6,
     "metadata": {},
     "output_type": "execute_result"
    }
   ],
   "source": [
    "adeptus_df = pandas.read_table('download/supp_table_1.txt')\n",
    "adeptus_df['direction'] = adeptus_df['Differential Expression'].str.extract('vs negatives: (\\S+)')\n",
    "adeptus_df.head()"
   ]
  },
  {
   "cell_type": "code",
   "execution_count": 7,
   "metadata": {
    "collapsed": false
   },
   "outputs": [
    {
     "data": {
      "text/html": [
       "<div>\n",
       "<table border=\"1\" class=\"dataframe\">\n",
       "  <thead>\n",
       "    <tr style=\"text-align: right;\">\n",
       "      <th></th>\n",
       "      <th>doid_id</th>\n",
       "      <th>Disease</th>\n",
       "      <th>entrez_gene_id</th>\n",
       "      <th>Gene</th>\n",
       "      <th>PB-ROC</th>\n",
       "      <th>PN-ROC</th>\n",
       "      <th>direction</th>\n",
       "    </tr>\n",
       "  </thead>\n",
       "  <tbody>\n",
       "    <tr>\n",
       "      <th>0</th>\n",
       "      <td>DOID:331</td>\n",
       "      <td>central nervous system disease</td>\n",
       "      <td>91137</td>\n",
       "      <td>SLC25A46</td>\n",
       "      <td>0.67</td>\n",
       "      <td>0.72</td>\n",
       "      <td>down</td>\n",
       "    </tr>\n",
       "    <tr>\n",
       "      <th>1</th>\n",
       "      <td>DOID:331</td>\n",
       "      <td>central nervous system disease</td>\n",
       "      <td>79590</td>\n",
       "      <td>MRPL24</td>\n",
       "      <td>0.68</td>\n",
       "      <td>0.69</td>\n",
       "      <td>down</td>\n",
       "    </tr>\n",
       "    <tr>\n",
       "      <th>2</th>\n",
       "      <td>DOID:331</td>\n",
       "      <td>central nervous system disease</td>\n",
       "      <td>10237</td>\n",
       "      <td>SLC35B1</td>\n",
       "      <td>0.68</td>\n",
       "      <td>0.75</td>\n",
       "      <td>down</td>\n",
       "    </tr>\n",
       "    <tr>\n",
       "      <th>3</th>\n",
       "      <td>DOID:331</td>\n",
       "      <td>central nervous system disease</td>\n",
       "      <td>4118</td>\n",
       "      <td>MAL</td>\n",
       "      <td>0.65</td>\n",
       "      <td>0.80</td>\n",
       "      <td>up</td>\n",
       "    </tr>\n",
       "    <tr>\n",
       "      <th>4</th>\n",
       "      <td>DOID:331</td>\n",
       "      <td>central nervous system disease</td>\n",
       "      <td>79084</td>\n",
       "      <td>WDR77</td>\n",
       "      <td>0.66</td>\n",
       "      <td>0.70</td>\n",
       "      <td>down</td>\n",
       "    </tr>\n",
       "  </tbody>\n",
       "</table>\n",
       "</div>"
      ],
      "text/plain": [
       "    doid_id                         Disease  entrez_gene_id      Gene  PB-ROC  \\\n",
       "0  DOID:331  central nervous system disease           91137  SLC25A46    0.67   \n",
       "1  DOID:331  central nervous system disease           79590    MRPL24    0.68   \n",
       "2  DOID:331  central nervous system disease           10237   SLC35B1    0.68   \n",
       "3  DOID:331  central nervous system disease            4118       MAL    0.65   \n",
       "4  DOID:331  central nervous system disease           79084     WDR77    0.66   \n",
       "\n",
       "   PN-ROC direction  \n",
       "0    0.72      down  \n",
       "1    0.69      down  \n",
       "2    0.75      down  \n",
       "3    0.80        up  \n",
       "4    0.70      down  "
      ]
     },
     "execution_count": 7,
     "metadata": {},
     "output_type": "execute_result"
    }
   ],
   "source": [
    "adeptus_df = do_map_df.merge(gene_map.merge(adeptus_df))\n",
    "adeptus_df = adeptus_df.drop_duplicates(['doid_id', 'entrez_gene_id', 'direction'])\n",
    "adeptus_df = adeptus_df.drop(['Differential Expression', 'type'], 1)\n",
    "adeptus_df.head()"
   ]
  },
  {
   "cell_type": "code",
   "execution_count": 8,
   "metadata": {
    "collapsed": false
   },
   "outputs": [],
   "source": [
    "adeptus_df.to_csv('data/gene-sets.tsv', sep='\\t', index=False)"
   ]
  },
  {
   "cell_type": "code",
   "execution_count": 9,
   "metadata": {
    "collapsed": false
   },
   "outputs": [
    {
     "data": {
      "text/html": [
       "<div>\n",
       "<table border=\"1\" class=\"dataframe\">\n",
       "  <thead>\n",
       "    <tr style=\"text-align: right;\">\n",
       "      <th></th>\n",
       "      <th>doid_id</th>\n",
       "      <th>Disease</th>\n",
       "      <th>down</th>\n",
       "      <th>up</th>\n",
       "    </tr>\n",
       "  </thead>\n",
       "  <tbody>\n",
       "    <tr>\n",
       "      <th>0</th>\n",
       "      <td>DOID:0050686</td>\n",
       "      <td>organ system cancer</td>\n",
       "      <td>24</td>\n",
       "      <td>149</td>\n",
       "    </tr>\n",
       "    <tr>\n",
       "      <th>1</th>\n",
       "      <td>DOID:0050687</td>\n",
       "      <td>cell type cancer</td>\n",
       "      <td>162</td>\n",
       "      <td>135</td>\n",
       "    </tr>\n",
       "    <tr>\n",
       "      <th>2</th>\n",
       "      <td>DOID:1037</td>\n",
       "      <td>lymphoblastic leukemia</td>\n",
       "      <td>55</td>\n",
       "      <td>50</td>\n",
       "    </tr>\n",
       "    <tr>\n",
       "      <th>3</th>\n",
       "      <td>DOID:1240</td>\n",
       "      <td>leukemia</td>\n",
       "      <td>28</td>\n",
       "      <td>53</td>\n",
       "    </tr>\n",
       "    <tr>\n",
       "      <th>4</th>\n",
       "      <td>DOID:1287</td>\n",
       "      <td>cardiovascular system disease</td>\n",
       "      <td>165</td>\n",
       "      <td>229</td>\n",
       "    </tr>\n",
       "    <tr>\n",
       "      <th>5</th>\n",
       "      <td>DOID:1289</td>\n",
       "      <td>neurodegenerative disease</td>\n",
       "      <td>42</td>\n",
       "      <td>22</td>\n",
       "    </tr>\n",
       "    <tr>\n",
       "      <th>6</th>\n",
       "      <td>DOID:1612</td>\n",
       "      <td>breast cancer</td>\n",
       "      <td>61</td>\n",
       "      <td>68</td>\n",
       "    </tr>\n",
       "    <tr>\n",
       "      <th>7</th>\n",
       "      <td>DOID:162</td>\n",
       "      <td>cancer</td>\n",
       "      <td>36</td>\n",
       "      <td>222</td>\n",
       "    </tr>\n",
       "    <tr>\n",
       "      <th>8</th>\n",
       "      <td>DOID:2531</td>\n",
       "      <td>hematologic cancer</td>\n",
       "      <td>24</td>\n",
       "      <td>9</td>\n",
       "    </tr>\n",
       "    <tr>\n",
       "      <th>9</th>\n",
       "      <td>DOID:3119</td>\n",
       "      <td>gastrointestinal system cancer</td>\n",
       "      <td>177</td>\n",
       "      <td>286</td>\n",
       "    </tr>\n",
       "    <tr>\n",
       "      <th>10</th>\n",
       "      <td>DOID:331</td>\n",
       "      <td>central nervous system disease</td>\n",
       "      <td>9</td>\n",
       "      <td>3</td>\n",
       "    </tr>\n",
       "    <tr>\n",
       "      <th>11</th>\n",
       "      <td>DOID:3856</td>\n",
       "      <td>male reproductive organ cancer</td>\n",
       "      <td>119</td>\n",
       "      <td>136</td>\n",
       "    </tr>\n",
       "    <tr>\n",
       "      <th>12</th>\n",
       "      <td>DOID:3907</td>\n",
       "      <td>lung squamous cell carcinoma</td>\n",
       "      <td>101</td>\n",
       "      <td>211</td>\n",
       "    </tr>\n",
       "    <tr>\n",
       "      <th>13</th>\n",
       "      <td>DOID:9256</td>\n",
       "      <td>colorectal cancer</td>\n",
       "      <td>638</td>\n",
       "      <td>714</td>\n",
       "    </tr>\n",
       "    <tr>\n",
       "      <th>14</th>\n",
       "      <td>DOID:9952</td>\n",
       "      <td>acute lymphocytic leukemia</td>\n",
       "      <td>451</td>\n",
       "      <td>564</td>\n",
       "    </tr>\n",
       "  </tbody>\n",
       "</table>\n",
       "</div>"
      ],
      "text/plain": [
       "         doid_id                         Disease  down   up\n",
       "0   DOID:0050686             organ system cancer    24  149\n",
       "1   DOID:0050687                cell type cancer   162  135\n",
       "2      DOID:1037          lymphoblastic leukemia    55   50\n",
       "3      DOID:1240                        leukemia    28   53\n",
       "4      DOID:1287   cardiovascular system disease   165  229\n",
       "5      DOID:1289       neurodegenerative disease    42   22\n",
       "6      DOID:1612                   breast cancer    61   68\n",
       "7       DOID:162                          cancer    36  222\n",
       "8      DOID:2531              hematologic cancer    24    9\n",
       "9      DOID:3119  gastrointestinal system cancer   177  286\n",
       "10      DOID:331  central nervous system disease     9    3\n",
       "11     DOID:3856  male reproductive organ cancer   119  136\n",
       "12     DOID:3907    lung squamous cell carcinoma   101  211\n",
       "13     DOID:9256               colorectal cancer   638  714\n",
       "14     DOID:9952      acute lymphocytic leukemia   451  564"
      ]
     },
     "execution_count": 9,
     "metadata": {},
     "output_type": "execute_result"
    }
   ],
   "source": [
    "# differential expression summary\n",
    "adeptus_df.groupby(['doid_id', 'Disease']).apply(\n",
    "    lambda df: pandas.Series({'up': sum(df.direction == 'up'), 'down': sum(df.direction == 'down')})\n",
    ").reset_index()"
   ]
  },
  {
   "cell_type": "markdown",
   "metadata": {},
   "source": [
    "## DO slim"
   ]
  },
  {
   "cell_type": "code",
   "execution_count": 10,
   "metadata": {
    "collapsed": false
   },
   "outputs": [],
   "source": [
    "slim_df = doslim_map_df.merge(adeptus_df)\n",
    "slim_df = slim_df[['slim_id', 'slim_name', 'entrez_gene_id', 'Gene', 'direction']].drop_duplicates()\n",
    "slim_df.to_csv('data/gene-sets-slim.tsv', sep='\\t', index=False)"
   ]
  },
  {
   "cell_type": "code",
   "execution_count": 11,
   "metadata": {
    "collapsed": false
   },
   "outputs": [
    {
     "data": {
      "text/html": [
       "<div>\n",
       "<table border=\"1\" class=\"dataframe\">\n",
       "  <thead>\n",
       "    <tr style=\"text-align: right;\">\n",
       "      <th></th>\n",
       "      <th>slim_id</th>\n",
       "      <th>slim_name</th>\n",
       "      <th>down</th>\n",
       "      <th>up</th>\n",
       "    </tr>\n",
       "  </thead>\n",
       "  <tbody>\n",
       "    <tr>\n",
       "      <th>0</th>\n",
       "      <td>DOID:1324</td>\n",
       "      <td>lung cancer</td>\n",
       "      <td>101</td>\n",
       "      <td>211</td>\n",
       "    </tr>\n",
       "    <tr>\n",
       "      <th>1</th>\n",
       "      <td>DOID:1612</td>\n",
       "      <td>breast cancer</td>\n",
       "      <td>61</td>\n",
       "      <td>68</td>\n",
       "    </tr>\n",
       "    <tr>\n",
       "      <th>2</th>\n",
       "      <td>DOID:2531</td>\n",
       "      <td>hematologic cancer</td>\n",
       "      <td>512</td>\n",
       "      <td>631</td>\n",
       "    </tr>\n",
       "  </tbody>\n",
       "</table>\n",
       "</div>"
      ],
      "text/plain": [
       "     slim_id           slim_name  down   up\n",
       "0  DOID:1324         lung cancer   101  211\n",
       "1  DOID:1612       breast cancer    61   68\n",
       "2  DOID:2531  hematologic cancer   512  631"
      ]
     },
     "execution_count": 11,
     "metadata": {},
     "output_type": "execute_result"
    }
   ],
   "source": [
    "# differential expression summary\n",
    "slim_df.groupby(['slim_id', 'slim_name']).apply(\n",
    "    lambda df: pandas.Series({'up': sum(df.direction == 'up'), 'down': sum(df.direction == 'down')})\n",
    ").reset_index()"
   ]
  }
 ],
 "metadata": {
  "kernelspec": {
   "display_name": "Python 3",
   "language": "python",
   "name": "python3"
  },
  "language_info": {
   "codemirror_mode": {
    "name": "ipython",
    "version": 3
   },
   "file_extension": ".py",
   "mimetype": "text/x-python",
   "name": "python",
   "nbconvert_exporter": "python",
   "pygments_lexer": "ipython3",
   "version": "3.4.3"
  }
 },
 "nbformat": 4,
 "nbformat_minor": 0
}
